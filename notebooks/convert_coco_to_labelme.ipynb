{
 "cells": [
  {
   "cell_type": "markdown",
   "metadata": {},
   "source": [
    "## COCO2labelme\n",
    "\n",
    "Converts COCO JSON file to labelme JSON so that annotations can be modified easily\n",
    "\n",
    "@author ghowa"
   ]
  },
  {
   "cell_type": "code",
   "execution_count": 2,
   "metadata": {},
   "outputs": [],
   "source": [
    "%matplotlib inline\n",
    "from pycocotools.coco import COCO\n",
    "import numpy as np\n",
    "import skimage.io as io\n",
    "import matplotlib.pyplot as plt\n",
    "import pylab\n",
    "import os\n",
    "import json\n",
    "from shutil import copy2\n",
    "pylab.rcParams['figure.figsize'] = (8.0, 10.0)"
   ]
  },
  {
   "cell_type": "code",
   "execution_count": 3,
   "metadata": {},
   "outputs": [],
   "source": [
    "# annFolder = \"train-coco\"\n",
    "# annFile=os.path.join(annFolder, \"annotations.json\")\n",
    "# annFile = (\"../Fsz0hKLEPdc.mkv.json\")\n",
    "valFile = (\"../annotations/val.json\")\n",
    "testFile = (\"../annotations/test.json\")\n",
    "trainFile = (\"../annotations/train.json\")\n"
   ]
  },
  {
   "cell_type": "code",
   "execution_count": 4,
   "metadata": {},
   "outputs": [
    {
     "name": "stdout",
     "output_type": "stream",
     "text": [
      "loading annotations into memory...\n",
      "Done (t=0.01s)\n",
      "creating index...\n",
      "index created!\n",
      "loading annotations into memory...\n",
      "Done (t=0.01s)\n",
      "creating index...\n",
      "index created!\n",
      "loading annotations into memory...\n",
      "Done (t=0.04s)\n",
      "creating index...\n",
      "index created!\n"
     ]
    }
   ],
   "source": [
    "# initialize COCO api for instance annotations\n",
    "coco_val=COCO(valFile)\n",
    "coco_test=COCO(testFile)\n",
    "coco_train=COCO(trainFile)"
   ]
  },
  {
   "cell_type": "code",
   "execution_count": 7,
   "metadata": {
    "scrolled": true
   },
   "outputs": [
    {
     "name": "stdout",
     "output_type": "stream",
     "text": [
      "COCO categories: \n",
      "kreuz adler flagge_ukr flagge_upa ukraine hakenkreuz ss_rune bandera georgsband hammer&sichel Wolfsangel oun swoboda falanga nato flagge_ru eu\n",
      "\n"
     ]
    }
   ],
   "source": [
    "# display COCO categories and supercategories\n",
    "cats = coco_val.loadCats(coco_val.getCatIds())\n",
    "nms=[cat['name'] for cat in cats]\n",
    "print('COCO categories: \\n{}\\n'.format(' '.join(nms)))"
   ]
  },
  {
   "cell_type": "code",
   "execution_count": 16,
   "metadata": {
    "scrolled": false
   },
   "outputs": [],
   "source": [
    "# sort all images into category folders\n",
    "folders = [\"val_images\", \"test_images\", \"train_images\"]\n",
    "count = 0\n",
    "for coco in [coco_val, coco_test, coco_train]:\n",
    "    if not os.path.exists(folders[count]):\n",
    "        os.mkdir(folders[count])\n",
    "    for name in nms:\n",
    "        catIds = coco.getCatIds(catNms=[name]) # [name] is used to prevent lookup bug\n",
    "        imgIds = coco.getImgIds(catIds=catIds)\n",
    "        if not os.path.exists(folders[count]+\"/\"+name):\n",
    "            os.mkdir(folders[count]+\"/\"+name)\n",
    "        for imId in imgIds:\n",
    "            # copy images\n",
    "            img = coco.loadImgs(imId)\n",
    "            copy2(\"../annotations/\"+folders[count]+\"/\"+img[0][\"file_name\"], folders[count]+\"/\"+name+\"/\"+img[0][\"file_name\"])\n",
    "\n",
    "            # write labelme annotations\n",
    "            output = {\"version\": \"4.5.6\", \"flags\": {}}\n",
    "            annIds = coco.getAnnIds(imgIds=imId, catIds=catIds, iscrowd=None)\n",
    "            anns = coco.loadAnns(annIds)\n",
    "            shapes = []\n",
    "            for ann in anns:\n",
    "                points = []\n",
    "                for index in range(len(ann[\"segmentation\"][0])):\n",
    "                    if index%2 == 0:\n",
    "                        points.append([ann[\"segmentation\"][0][index],ann[\"segmentation\"][0][index+1]])\n",
    "                shapes.append({\"label\": name, \"points\": points, \"group_id\": None, \"shape_type\": \"polygon\", \"flags\":{}})\n",
    "\n",
    "            output[\"shapes\"] = shapes\n",
    "            output[\"imagePath\"] = img[0][\"file_name\"]\n",
    "            output[\"imageData\"] = None\n",
    "            output[\"imageHeight\"] = img[0][\"height\"]\n",
    "            output[\"imageWidth\"] = img[0][\"width\"]\n",
    "\n",
    "            with open(folders[count]+\"/\"+name+\"/\"+img[0][\"file_name\"].rsplit(\".\",1)[0]+\".json\", 'w') as outfile:\n",
    "                json.dump(output, outfile)  \n",
    "    count += 1"
   ]
  },
  {
   "cell_type": "code",
   "execution_count": null,
   "metadata": {},
   "outputs": [],
   "source": []
  }
 ],
 "metadata": {
  "kernelspec": {
   "display_name": "detectron2",
   "language": "python",
   "name": "detectron2"
  },
  "language_info": {
   "codemirror_mode": {
    "name": "ipython",
    "version": 3
   },
   "file_extension": ".py",
   "mimetype": "text/x-python",
   "name": "python",
   "nbconvert_exporter": "python",
   "pygments_lexer": "ipython3",
   "version": "3.8.5"
  }
 },
 "nbformat": 4,
 "nbformat_minor": 1
}
