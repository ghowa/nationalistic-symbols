{
 "cells": [
  {
   "cell_type": "markdown",
   "metadata": {},
   "source": [
    "# Deep Watching"
   ]
  },
  {
   "cell_type": "code",
   "execution_count": null,
   "metadata": {},
   "outputs": [],
   "source": [
    "import os\n",
    "import json\n",
    "from collections import defaultdict\n",
    "import pickle\n",
    "import numpy as np\n",
    "import pandas as pd\n",
    "import seaborn as sns\n",
    "import cv2\n",
    "%matplotlib inline\n",
    "import matplotlib\n",
    "import matplotlib.pyplot as plt\n",
    "plt.style.use('ggplot')\n",
    "from sklearn.manifold import Isomap\n",
    "import pandas as pd\n",
    "import matplotlib.colors as clrs\n",
    "import spin as sp\n",
    "classes = [\n",
    "        \"adler\",\n",
    "        \"bandera1\",\n",
    "        \"bandera2\",\n",
    "        \"bandera3\",\n",
    "        \"eu\",\n",
    "        \"falanga\",\n",
    "        \"flag_ru_hang\",\n",
    "        \"flag_ru_fly\",\n",
    "        \"flag_ru\",\n",
    "        \"flag_ua_hang\",\n",
    "        \"flag_ua_fly\",\n",
    "        \"flag_ua\",\n",
    "        \"flag_upa_hang\",\n",
    "        \"flag_upa_fly\",\n",
    "        \"flag_upa\",\n",
    "        \"george_hang\",\n",
    "        \"george_fly\",\n",
    "        \"george_band\",\n",
    "        \"george\",\n",
    "        \"swastika\",\n",
    "        \"hammer\",\n",
    "        \"cross\",\n",
    "        \"orthodox\",\n",
    "        \"nato\",\n",
    "        \"oun\",\n",
    "        \"ss\",\n",
    "        \"swoboda\",\n",
    "        \"ukraine\",\n",
    "        \"wolfsangel\",\n",
    "]"
   ]
  },
  {
   "cell_type": "markdown",
   "metadata": {},
   "source": [
    "## Prepare data\n",
    "\n",
    "**Note**: This takes raw data and produces a 'result.json' file. This file is already supplied, so you only have to execute this cell if you want to prepare your own data."
   ]
  },
  {
   "cell_type": "code",
   "execution_count": null,
   "metadata": {},
   "outputs": [],
   "source": [
    "# read individual json files\n",
    "result_dir = \"output\"\n",
    "results = []\n",
    "counter = 0\n",
    "for file in os.listdir(result_dir):\n",
    "    if file.endswith(\".json\"):\n",
    "        try:\n",
    "            with open(result_dir + os.path.sep + file) as json_file:\n",
    "                data = json.load(json_file)        \n",
    "            for ann in data['annotations']:\n",
    "                results.append({\n",
    "                    'file': file,\n",
    "                    'orig_file': data['file'],\n",
    "                    'frames': data['frames'],\n",
    "                    'fps': data['fps'],\n",
    "                    'width': data['width'],\n",
    "                    'height': data['height'],\n",
    "                    'frame_skip': data['frame_skip'],\n",
    "                    'width': data['width'],\n",
    "                    'frame_id': ann['image_id'],\n",
    "                    'category_id': ann['category_id'],\n",
    "                    'score': ann['score'],\n",
    "                    'bbox': ann['bbox'],\n",
    "                    'area': ann['area'],\n",
    "                })\n",
    "        except UnicodeDecodeError:\n",
    "            print(\"Couldn't read\", file)\n",
    "\n",
    "with open(\"results.json\", 'w') as out_file:\n",
    "    json.dump(results, out_file)"
   ]
  },
  {
   "cell_type": "markdown",
   "metadata": {},
   "source": [
    "## Load data"
   ]
  },
  {
   "cell_type": "code",
   "execution_count": null,
   "metadata": {},
   "outputs": [],
   "source": [
    "data = pd.read_json('results.json')"
   ]
  },
  {
   "cell_type": "markdown",
   "metadata": {},
   "source": [
    "## Corpus map using class counts"
   ]
  },
  {
   "cell_type": "code",
   "execution_count": null,
   "metadata": {
    "scrolled": false
   },
   "outputs": [],
   "source": [
    "symbols_matrix = data.groupby(['file', 'category_id']).agg({'score': 'size', 'frames': 'mean'})\n",
    "symbols_matrix['percentage'] = symbols_matrix['score'] / symbols_matrix['frames']\n",
    "symbols_matrix = symbols_matrix.drop(columns=['score', 'frames'])\n",
    "symbols_matrix = symbols_matrix.unstack().fillna(0)\n",
    "\n",
    "matrix = symbols_matrix.to_numpy()\n",
    "\n",
    "# create isomap\n",
    "imap = Isomap()\n",
    "corpus_map = imap.fit_transform(matrix)\n",
    "\n",
    "# plot corpus using isomap\n",
    "label_scale=0\n",
    "fig = plt.figure(figsize=(120, 80))\n",
    "ax1 = fig.add_subplot(111)\n",
    "for counter in range(len(corpus_map)):\n",
    "    scatter = ax1.scatter(corpus_map[counter][0], corpus_map[counter][1], marker='o', s=600)\n",
    "    plt.annotate(symbols_matrix.index[counter], xy=(corpus_map[counter][0]+label_scale, corpus_map[counter][1]+label_scale))\n",
    "plt.show()"
   ]
  },
  {
   "cell_type": "markdown",
   "metadata": {},
   "source": [
    "## Symbol cooccurrences"
   ]
  },
  {
   "cell_type": "code",
   "execution_count": null,
   "metadata": {},
   "outputs": [],
   "source": [
    "cat_num = data['category_id'].max() + 1 \n",
    "cooc_count = np.zeros(shape=(cat_num, cat_num))\n",
    "coocs = data.groupby(['file', 'frame_id'])['category_id'].apply(list)\n",
    "for row in coocs:\n",
    "    if len(row) > 1:\n",
    "        for first in row:\n",
    "            for second in row:\n",
    "                cooc_count[first][second] += 1\n",
    "\n",
    "\n",
    "#sort blogs with SPIN\n",
    "order = np.array(range(len(cooc_count[0])))\n",
    "new_cooc, new_order = sp.spin(cooc_count, order)\n",
    "\n",
    "new_classes = []\n",
    "\n",
    "for index in new_order:\n",
    "    new_classes.append(classes[index])\n",
    "\n",
    "fig, ax = plt.subplots(figsize=(18,10))\n",
    "ax.grid(False)\n",
    "plt.imshow(new_cooc, norm=clrs.LogNorm(vmin=0.1, vmax=cooc_count.max()),)\n",
    "plt.colorbar()\n",
    "plt.xticks(range(len(new_classes)), new_classes, rotation=90)\n",
    "plt.yticks(range(len(new_classes)), new_classes)\n",
    "plt.show()"
   ]
  },
  {
   "cell_type": "markdown",
   "metadata": {},
   "source": [
    "## Annotations per video"
   ]
  },
  {
   "cell_type": "code",
   "execution_count": null,
   "metadata": {},
   "outputs": [],
   "source": [
    "frames_per_vid = data.groupby(['file'])['frame_id'].apply(list)"
   ]
  },
  {
   "cell_type": "code",
   "execution_count": null,
   "metadata": {},
   "outputs": [],
   "source": [
    "for index, item in frames_per_vid.iteritems():\n",
    "    fig, ax = plt.subplots()\n",
    "    ax.set(xlim=[0, max(item)])\n",
    "    plt.title(index)\n",
    "    plt.bar(item, [1])\n",
    "    plt.show()"
   ]
  },
  {
   "cell_type": "code",
   "execution_count": null,
   "metadata": {},
   "outputs": [],
   "source": []
  }
 ],
 "metadata": {
  "kernelspec": {
   "display_name": "Python 3",
   "language": "python",
   "name": "python3"
  },
  "language_info": {
   "codemirror_mode": {
    "name": "ipython",
    "version": 3
   },
   "file_extension": ".py",
   "mimetype": "text/x-python",
   "name": "python",
   "nbconvert_exporter": "python",
   "pygments_lexer": "ipython3",
   "version": "3.9.1"
  }
 },
 "nbformat": 4,
 "nbformat_minor": 2
}
